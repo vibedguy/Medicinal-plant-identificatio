import cv2
import numpy as np
from skimage import exposure
from skimage.color import rgb2gray
from skimage import io
from skimage import transform
from skimage.filters import gaussian
from skimage import feature
from skimage import color
from sklearn.metrics import accuracy_score
import tensorflow as tf
from google.colab import files  # Import the Colab files library

# Placeholder model for leaf classification (replace with your trained model)
def classify_leaf(image):
    # Perform leaf classification using your trained model
    # Replace this with your actual classification logic
    leaf_type = "Medicinal" if np.random.rand() > 0.5 else "Not Medicinal"

    # Extract features (replace with your actual feature extraction logic)
    features = {
        "Feature 1": "It is used in the preparation of medicines",
        "Feature 2": "Soothes and heals skin irritations, including burns and wounds.",
        "Feature 3": "Relieves digestive issues and eases headaches and muscle pain."
    }

    return leaf_type, features

# Upload an image from your local system
uploaded = files.upload()

# Get the filename of the uploaded image
uploaded_filename = list(uploaded.keys())[0]

# Load the uploaded image
image = io.imread(uploaded_filename)

# Perform leaf classification
leaf_type, image_features = classify_leaf(image)

# Resize and scale
resized_image = cv2.resize(image, (224, 224))
scaled_image = resized_image / 255.0  # Scaling to [0, 1] range

# Convert to grayscale
gray_image = rgb2gray(image)

# Histogram Equalization
equalized_image = exposure.equalize_hist(gray_image)

# Data Augmentation: Rotation
rotated_image = transform.rotate(image, angle=45)

# Gaussian Blur (Apply to each channel separately)
sigma = 2
blurred_image = np.zeros_like(image)
for channel in range(image.shape[2]):
    blurred_image[:, :, channel] = gaussian(image[:, :, channel], sigma=sigma)

# Edge Detection (Canny)
edges = feature.canny(color.rgb2gray(image), sigma=1)

# Calculate accuracy based on edge detection
true_edges = feature.canny(color.rgb2gray(rotated_image), sigma=1)
predicted_edges = edges

accuracy = accuracy_score(true_edges.ravel(), predicted_edges.ravel())

# Display the original and preprocessed images with accuracy and leaf type annotations
import matplotlib.pyplot as plt

plt.figure(figsize=(12, 8))
plt.subplot(2, 4, 1), plt.imshow(image), plt.title(f"Original ")
plt.subplot(2, 4, 2), plt.imshow(resized_image), plt.title("Resized")
plt.subplot(2, 4, 3), plt.imshow(scaled_image), plt.title("Scaled")
plt.subplot(2, 4, 4), plt.imshow(gray_image, cmap="gray"), plt.title("Grayscale")
plt.subplot(2, 4, 5), plt.imshow(equalized_image, cmap="gray"), plt.title("Histogram Equalization")
plt.subplot(2, 4, 6), plt.imshow(rotated_image), plt.title("Rotated")
plt.subplot(2, 4, 7), plt.imshow(blurred_image), plt.title("Gaussian Blur")
plt.subplot(2, 4, 8), plt.imshow(edges, cmap="gray"), plt.title("Edge Detection")

plt.suptitle(f"Plant Type: {leaf_type}\nAccuracy: {accuracy * 100:.2f}%", fontsize=16)

# Display image features if the leaf type is "Medicinal"
if leaf_type == "Medicinal":
    feature_str = "\n".join([f"{key}: {value}" for key, value in image_features.items()])
    plt.gcf().text(0.05, 0.02, f"Features:\n{feature_str}", fontsize=12, color="blue")

plt.tight_layout()
plt.show()
